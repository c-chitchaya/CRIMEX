{
 "cells": [
  {
   "cell_type": "code",
   "execution_count": 5,
   "id": "23bbea8f",
   "metadata": {},
   "outputs": [],
   "source": [
    "# import \n",
    "import numpy as np\n",
    "import pandas as pd\n",
    "import json\n",
    "import re"
   ]
  },
  {
   "cell_type": "code",
   "execution_count": null,
   "id": "94e72159",
   "metadata": {},
   "outputs": [],
   "source": []
  },
  {
   "cell_type": "code",
   "execution_count": 2,
   "id": "5ce0c952",
   "metadata": {},
   "outputs": [],
   "source": [
    "def cut_text(text):\n",
    "    # cut ID, DATE part \n",
    "    pattern = '[::TITLE::]'\n",
    "    before, sep, after = text.partition(pattern)\n",
    "    new = sep + after\n",
    "    return new"
   ]
  },
  {
   "cell_type": "code",
   "execution_count": 4,
   "id": "15b5c0a0",
   "metadata": {},
   "outputs": [],
   "source": [
    "def write_file_txt(data, filepath, cut):\n",
    "    with open(filepath, 'w') as f:\n",
    "        for k in range(len(data)):  #range(len(data))\n",
    "            # new string \n",
    "            new = ''\n",
    "            ini_list_label = data['label'][k]\n",
    "            ini_list_text = data['text'][k]\n",
    "            # position of the current index - new crime start with 1\n",
    "            cur_in = 0; \n",
    "            \n",
    "            # loop for labeling  \n",
    "            for i in ini_list_label :\n",
    "                # text before label symbol\n",
    "                new += str(ini_list_text[cur_in:int(i[0])])\n",
    "\n",
    "                # label name \n",
    "                new += str(('[['+ i[2] + ']]' + str(ini_list_text[int(i[0]):int(i[1])]) + '[[/'+ i[2] + ']]'))\n",
    "\n",
    "                # update position \n",
    "                cur_in = int(i[1]); \n",
    "        \n",
    "            # another text \n",
    "            new += str(ini_list_text[cur_in:len(ini_list_text)])\n",
    "            # remove \\n\n",
    "            new = new.replace(\"\\n\", \"\")\n",
    "\n",
    "            if cut == True:\n",
    "                new = cut_text(new)\n",
    "\n",
    "            new=re.sub(' +', ' ',new) # remove multiple whitespace\n",
    "\n",
    "            # write \"new\" to text file \n",
    "            f.write(new)\n",
    "            f.write(\"\\n\") # new line \n",
    "    \n",
    "    # close file   \n",
    "    f.close();\n",
    "\n",
    "    return True\n"
   ]
  },
  {
   "cell_type": "code",
   "execution_count": null,
   "id": "99048e4e",
   "metadata": {},
   "outputs": [],
   "source": []
  },
  {
   "cell_type": "code",
   "execution_count": null,
   "id": "d67c6092",
   "metadata": {},
   "outputs": [],
   "source": [
    "# data from doccano \n",
    "data = pd.read_json('/content/drive/MyDrive/Colab Notebooks/Dataset/data/theft_sex_gram_100.jsonl',lines=True)"
   ]
  },
  {
   "cell_type": "code",
   "execution_count": null,
   "id": "92396e1b",
   "metadata": {},
   "outputs": [],
   "source": [
    "filepath_cut = '/content/drive/MyDrive/Colab Notebooks/Dataset/data3/cut_300_label.txt'\n",
    "filepath_uncut = '/content/drive/MyDrive/Colab Notebooks/Dataset/data3/uncut_300_label.txt'\n",
    "\n",
    "write_file_txt(data, filepath_cut, cut=True)\n",
    "write_file_txt(data, filepath_uncut, cut=False)"
   ]
  },
  {
   "cell_type": "code",
   "execution_count": null,
   "id": "5ca51f0d",
   "metadata": {},
   "outputs": [],
   "source": []
  },
  {
   "cell_type": "code",
   "execution_count": null,
   "id": "89eee631",
   "metadata": {},
   "outputs": [],
   "source": []
  },
  {
   "cell_type": "code",
   "execution_count": null,
   "id": "2704c790",
   "metadata": {},
   "outputs": [],
   "source": []
  }
 ],
 "metadata": {
  "kernelspec": {
   "display_name": "Python 3 (ipykernel)",
   "language": "python",
   "name": "python3"
  },
  "language_info": {
   "codemirror_mode": {
    "name": "ipython",
    "version": 3
   },
   "file_extension": ".py",
   "mimetype": "text/x-python",
   "name": "python",
   "nbconvert_exporter": "python",
   "pygments_lexer": "ipython3",
   "version": "3.10.8"
  }
 },
 "nbformat": 4,
 "nbformat_minor": 5
}
