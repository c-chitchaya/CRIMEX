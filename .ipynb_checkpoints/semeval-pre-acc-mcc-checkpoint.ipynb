{
 "cells": [
  {
   "cell_type": "code",
   "execution_count": 1,
   "id": "d5f2256b",
   "metadata": {},
   "outputs": [],
   "source": [
    "%%capture\n",
    "# run libery location py file\n",
    "%run /home/crimex/CRIMEX/ner_eval.py\n",
    "\n",
    "import sys\n",
    "sys.path.append('../src/')"
   ]
  },
  {
   "cell_type": "code",
   "execution_count": 2,
   "id": "d60180a3",
   "metadata": {
    "scrolled": true
   },
   "outputs": [
    {
     "name": "stdout",
     "output_type": "stream",
     "text": [
      "/home/crimex/CRIMEX/predicted_bert/2900_chunk_crf.xlsx\n",
      "/home/crimex/CRIMEX/predicted_bert/semeval_result/2900_chunk_crf_semeval.txt \n",
      "-----------\n",
      "/home/crimex/CRIMEX/predicted_bert/500_sent_crf.xlsx\n",
      "/home/crimex/CRIMEX/predicted_bert/semeval_result/500_sent_crf_semeval.txt \n",
      "-----------\n",
      "/home/crimex/CRIMEX/predicted_bert/1000_chunk_wang.xlsx\n"
     ]
    },
    {
     "name": "stderr",
     "output_type": "stream",
     "text": [
      "/home/crimex/miniconda3/envs/crimex/lib/python3.10/site-packages/sklearn/metrics/_classification.py:1344: UndefinedMetricWarning: Precision is ill-defined and being set to 0.0 due to no predicted samples. Use `zero_division` parameter to control this behavior.\n",
      "  _warn_prf(average, modifier, msg_start, len(result))\n",
      "/home/crimex/miniconda3/envs/crimex/lib/python3.10/site-packages/sklearn/metrics/_classification.py:1344: UndefinedMetricWarning: Precision and F-score are ill-defined and being set to 0.0 in labels with no predicted samples. Use `zero_division` parameter to control this behavior.\n",
      "  _warn_prf(average, modifier, msg_start, len(result))\n",
      "/home/crimex/miniconda3/envs/crimex/lib/python3.10/site-packages/sklearn/metrics/_classification.py:1344: UndefinedMetricWarning: Precision and F-score are ill-defined and being set to 0.0 in labels with no predicted samples. Use `zero_division` parameter to control this behavior.\n",
      "  _warn_prf(average, modifier, msg_start, len(result))\n",
      "/home/crimex/miniconda3/envs/crimex/lib/python3.10/site-packages/sklearn/metrics/_classification.py:1344: UndefinedMetricWarning: Precision and F-score are ill-defined and being set to 0.0 in labels with no predicted samples. Use `zero_division` parameter to control this behavior.\n",
      "  _warn_prf(average, modifier, msg_start, len(result))\n"
     ]
    },
    {
     "name": "stdout",
     "output_type": "stream",
     "text": [
      "/home/crimex/CRIMEX/predicted_bert/semeval_result/1000_chunk_wang_semeval.txt \n",
      "-----------\n",
      "/home/crimex/CRIMEX/predicted_bert/person_noO_chunk_bilstm.xlsx\n",
      "/home/crimex/CRIMEX/predicted_bert/semeval_result/person_noO_chunk_bilstm_semeval.txt \n",
      "-----------\n",
      "/home/crimex/CRIMEX/predicted_bert/xlmr_noO.xlsx\n",
      "/home/crimex/CRIMEX/predicted_bert/semeval_result/xlmr_noO_semeval.txt \n",
      "-----------\n",
      "/home/crimex/CRIMEX/predicted_bert/2900_xlmr.xlsx\n",
      "/home/crimex/CRIMEX/predicted_bert/semeval_result/2900_xlmr_semeval.txt \n",
      "-----------\n",
      "/home/crimex/CRIMEX/predicted_bert/1000_xlmr.xlsx\n",
      "/home/crimex/CRIMEX/predicted_bert/semeval_result/1000_xlmr_semeval.txt \n",
      "-----------\n",
      "/home/crimex/CRIMEX/predicted_bert/1500_sent_crf.xlsx\n",
      "/home/crimex/CRIMEX/predicted_bert/semeval_result/1500_sent_crf_semeval.txt \n",
      "-----------\n",
      "/home/crimex/CRIMEX/predicted_bert/wang_person_1.xlsx\n",
      "/home/crimex/CRIMEX/predicted_bert/semeval_result/wang_person_1_semeval.txt \n",
      "-----------\n",
      "/home/crimex/CRIMEX/predicted_bert/std_sent_crf.xlsx\n",
      "/home/crimex/CRIMEX/predicted_bert/semeval_result/std_sent_crf_semeval.txt \n",
      "-----------\n",
      "/home/crimex/CRIMEX/predicted_bert/std_chunk_bilstm.xlsx\n",
      "/home/crimex/CRIMEX/predicted_bert/semeval_result/std_chunk_bilstm_semeval.txt \n",
      "-----------\n",
      "/home/crimex/CRIMEX/predicted_bert/wang_Chunk_person.xlsx\n",
      "/home/crimex/CRIMEX/predicted_bert/semeval_result/wang_Chunk_person_semeval.txt \n",
      "-----------\n",
      "/home/crimex/CRIMEX/predicted_bert/xlmr_Chunk_person.xlsx\n",
      "/home/crimex/CRIMEX/predicted_bert/semeval_result/xlmr_Chunk_person_semeval.txt \n",
      "-----------\n",
      "/home/crimex/CRIMEX/predicted_bert/wang_std_chunk.xlsx\n",
      "/home/crimex/CRIMEX/predicted_bert/semeval_result/wang_std_chunk_semeval.txt \n",
      "-----------\n",
      "/home/crimex/CRIMEX/predicted_bert/xlmr_std.xlsx\n"
     ]
    },
    {
     "name": "stderr",
     "output_type": "stream",
     "text": [
      "/tmp/ipykernel_924733/2479367558.py:55: RuntimeWarning: invalid value encountered in divide\n",
      "  cm = r.astype('float') / r.sum(axis=1)[:, np.newaxis]\n"
     ]
    },
    {
     "name": "stdout",
     "output_type": "stream",
     "text": [
      "/home/crimex/CRIMEX/predicted_bert/semeval_result/xlmr_std_semeval.txt \n",
      "-----------\n",
      "/home/crimex/CRIMEX/predicted_bert/person_noO_chunk_crf.xlsx\n",
      "/home/crimex/CRIMEX/predicted_bert/semeval_result/person_noO_chunk_crf_semeval.txt \n",
      "-----------\n",
      "/home/crimex/CRIMEX/predicted_bert/person_sent_crf.xlsx\n",
      "/home/crimex/CRIMEX/predicted_bert/semeval_result/person_sent_crf_semeval.txt \n",
      "-----------\n",
      "/home/crimex/CRIMEX/predicted_bert/person_chunk_crf.xlsx\n",
      "/home/crimex/CRIMEX/predicted_bert/semeval_result/person_chunk_crf_semeval.txt \n",
      "-----------\n",
      "/home/crimex/CRIMEX/predicted_bert/xlmr_noO_chunk.xlsx\n"
     ]
    },
    {
     "name": "stderr",
     "output_type": "stream",
     "text": [
      "/home/crimex/miniconda3/envs/crimex/lib/python3.10/site-packages/sklearn/metrics/_classification.py:1344: UndefinedMetricWarning: Precision is ill-defined and being set to 0.0 due to no predicted samples. Use `zero_division` parameter to control this behavior.\n",
      "  _warn_prf(average, modifier, msg_start, len(result))\n",
      "/home/crimex/miniconda3/envs/crimex/lib/python3.10/site-packages/sklearn/metrics/_classification.py:1344: UndefinedMetricWarning: Precision and F-score are ill-defined and being set to 0.0 in labels with no predicted samples. Use `zero_division` parameter to control this behavior.\n",
      "  _warn_prf(average, modifier, msg_start, len(result))\n",
      "/home/crimex/miniconda3/envs/crimex/lib/python3.10/site-packages/sklearn/metrics/_classification.py:1344: UndefinedMetricWarning: Precision and F-score are ill-defined and being set to 0.0 in labels with no predicted samples. Use `zero_division` parameter to control this behavior.\n",
      "  _warn_prf(average, modifier, msg_start, len(result))\n",
      "/home/crimex/miniconda3/envs/crimex/lib/python3.10/site-packages/sklearn/metrics/_classification.py:1344: UndefinedMetricWarning: Precision and F-score are ill-defined and being set to 0.0 in labels with no predicted samples. Use `zero_division` parameter to control this behavior.\n",
      "  _warn_prf(average, modifier, msg_start, len(result))\n"
     ]
    },
    {
     "name": "stdout",
     "output_type": "stream",
     "text": [
      "/home/crimex/CRIMEX/predicted_bert/semeval_result/xlmr_noO_chunk_semeval.txt \n",
      "-----------\n",
      "/home/crimex/CRIMEX/predicted_bert/1000_chunk_bilstm.xlsx\n"
     ]
    },
    {
     "name": "stderr",
     "output_type": "stream",
     "text": [
      "/home/crimex/miniconda3/envs/crimex/lib/python3.10/site-packages/sklearn/metrics/_classification.py:1344: UndefinedMetricWarning: Precision is ill-defined and being set to 0.0 due to no predicted samples. Use `zero_division` parameter to control this behavior.\n",
      "  _warn_prf(average, modifier, msg_start, len(result))\n",
      "/home/crimex/miniconda3/envs/crimex/lib/python3.10/site-packages/sklearn/metrics/_classification.py:1344: UndefinedMetricWarning: Precision is ill-defined and being set to 0.0 due to no predicted samples. Use `zero_division` parameter to control this behavior.\n",
      "  _warn_prf(average, modifier, msg_start, len(result))\n",
      "/home/crimex/miniconda3/envs/crimex/lib/python3.10/site-packages/sklearn/metrics/_classification.py:1344: UndefinedMetricWarning: Precision is ill-defined and being set to 0.0 due to no predicted samples. Use `zero_division` parameter to control this behavior.\n",
      "  _warn_prf(average, modifier, msg_start, len(result))\n",
      "/home/crimex/miniconda3/envs/crimex/lib/python3.10/site-packages/sklearn/metrics/_classification.py:1344: UndefinedMetricWarning: Precision and F-score are ill-defined and being set to 0.0 in labels with no predicted samples. Use `zero_division` parameter to control this behavior.\n",
      "  _warn_prf(average, modifier, msg_start, len(result))\n",
      "/home/crimex/miniconda3/envs/crimex/lib/python3.10/site-packages/sklearn/metrics/_classification.py:1344: UndefinedMetricWarning: Precision and F-score are ill-defined and being set to 0.0 in labels with no predicted samples. Use `zero_division` parameter to control this behavior.\n",
      "  _warn_prf(average, modifier, msg_start, len(result))\n",
      "/home/crimex/miniconda3/envs/crimex/lib/python3.10/site-packages/sklearn/metrics/_classification.py:1344: UndefinedMetricWarning: Precision and F-score are ill-defined and being set to 0.0 in labels with no predicted samples. Use `zero_division` parameter to control this behavior.\n",
      "  _warn_prf(average, modifier, msg_start, len(result))\n"
     ]
    },
    {
     "name": "stdout",
     "output_type": "stream",
     "text": [
      "/home/crimex/CRIMEX/predicted_bert/semeval_result/1000_chunk_bilstm_semeval.txt \n",
      "-----------\n",
      "/home/crimex/CRIMEX/predicted_bert/500_chunk_wang.xlsx\n"
     ]
    },
    {
     "name": "stderr",
     "output_type": "stream",
     "text": [
      "/home/crimex/miniconda3/envs/crimex/lib/python3.10/site-packages/sklearn/metrics/_classification.py:1344: UndefinedMetricWarning: Precision is ill-defined and being set to 0.0 due to no predicted samples. Use `zero_division` parameter to control this behavior.\n",
      "  _warn_prf(average, modifier, msg_start, len(result))\n",
      "/home/crimex/miniconda3/envs/crimex/lib/python3.10/site-packages/sklearn/metrics/_classification.py:1344: UndefinedMetricWarning: Precision is ill-defined and being set to 0.0 due to no predicted samples. Use `zero_division` parameter to control this behavior.\n",
      "  _warn_prf(average, modifier, msg_start, len(result))\n",
      "/home/crimex/miniconda3/envs/crimex/lib/python3.10/site-packages/sklearn/metrics/_classification.py:1344: UndefinedMetricWarning: Precision and F-score are ill-defined and being set to 0.0 in labels with no predicted samples. Use `zero_division` parameter to control this behavior.\n",
      "  _warn_prf(average, modifier, msg_start, len(result))\n",
      "/home/crimex/miniconda3/envs/crimex/lib/python3.10/site-packages/sklearn/metrics/_classification.py:1344: UndefinedMetricWarning: Precision and F-score are ill-defined and being set to 0.0 in labels with no predicted samples. Use `zero_division` parameter to control this behavior.\n",
      "  _warn_prf(average, modifier, msg_start, len(result))\n",
      "/home/crimex/miniconda3/envs/crimex/lib/python3.10/site-packages/sklearn/metrics/_classification.py:1344: UndefinedMetricWarning: Precision and F-score are ill-defined and being set to 0.0 in labels with no predicted samples. Use `zero_division` parameter to control this behavior.\n",
      "  _warn_prf(average, modifier, msg_start, len(result))\n"
     ]
    },
    {
     "name": "stdout",
     "output_type": "stream",
     "text": [
      "/home/crimex/CRIMEX/predicted_bert/semeval_result/500_chunk_wang_semeval.txt \n",
      "-----------\n",
      "/home/crimex/CRIMEX/predicted_bert/wang_std.xlsx\n"
     ]
    },
    {
     "name": "stderr",
     "output_type": "stream",
     "text": [
      "/tmp/ipykernel_924733/2479367558.py:55: RuntimeWarning: invalid value encountered in divide\n",
      "  cm = r.astype('float') / r.sum(axis=1)[:, np.newaxis]\n"
     ]
    },
    {
     "name": "stdout",
     "output_type": "stream",
     "text": [
      "/home/crimex/CRIMEX/predicted_bert/semeval_result/wang_std_semeval.txt \n",
      "-----------\n",
      "/home/crimex/CRIMEX/predicted_bert/noO_chunk_bilstm.xlsx\n",
      "/home/crimex/CRIMEX/predicted_bert/semeval_result/noO_chunk_bilstm_semeval.txt \n",
      "-----------\n",
      "/home/crimex/CRIMEX/predicted_bert/2900_chunk_xlmr.xlsx\n",
      "/home/crimex/CRIMEX/predicted_bert/semeval_result/2900_chunk_xlmr_semeval.txt \n",
      "-----------\n",
      "/home/crimex/CRIMEX/predicted_bert/500_xlmr.xlsx\n"
     ]
    },
    {
     "name": "stderr",
     "output_type": "stream",
     "text": [
      "/home/crimex/miniconda3/envs/crimex/lib/python3.10/site-packages/sklearn/metrics/_classification.py:1344: UndefinedMetricWarning: Precision is ill-defined and being set to 0.0 due to no predicted samples. Use `zero_division` parameter to control this behavior.\n",
      "  _warn_prf(average, modifier, msg_start, len(result))\n",
      "/home/crimex/miniconda3/envs/crimex/lib/python3.10/site-packages/sklearn/metrics/_classification.py:1344: UndefinedMetricWarning: Precision and F-score are ill-defined and being set to 0.0 in labels with no predicted samples. Use `zero_division` parameter to control this behavior.\n",
      "  _warn_prf(average, modifier, msg_start, len(result))\n",
      "/home/crimex/miniconda3/envs/crimex/lib/python3.10/site-packages/sklearn/metrics/_classification.py:1344: UndefinedMetricWarning: Precision and F-score are ill-defined and being set to 0.0 in labels with no predicted samples. Use `zero_division` parameter to control this behavior.\n",
      "  _warn_prf(average, modifier, msg_start, len(result))\n",
      "/home/crimex/miniconda3/envs/crimex/lib/python3.10/site-packages/sklearn/metrics/_classification.py:1344: UndefinedMetricWarning: Precision and F-score are ill-defined and being set to 0.0 in labels with no predicted samples. Use `zero_division` parameter to control this behavior.\n",
      "  _warn_prf(average, modifier, msg_start, len(result))\n"
     ]
    },
    {
     "name": "stdout",
     "output_type": "stream",
     "text": [
      "/home/crimex/CRIMEX/predicted_bert/semeval_result/500_xlmr_semeval.txt \n",
      "-----------\n",
      "/home/crimex/CRIMEX/predicted_bert/2900_sent_crf.xlsx\n",
      "/home/crimex/CRIMEX/predicted_bert/semeval_result/2900_sent_crf_semeval.txt \n",
      "-----------\n",
      "/home/crimex/CRIMEX/predicted_bert/noO_sent_bilstm.xlsx\n",
      "/home/crimex/CRIMEX/predicted_bert/semeval_result/noO_sent_bilstm_semeval.txt \n",
      "-----------\n",
      "/home/crimex/CRIMEX/predicted_bert/person_chunk_bilstm.xlsx\n",
      "/home/crimex/CRIMEX/predicted_bert/semeval_result/person_chunk_bilstm_semeval.txt \n",
      "-----------\n",
      "/home/crimex/CRIMEX/predicted_bert/1000_wang.xlsx\n",
      "/home/crimex/CRIMEX/predicted_bert/semeval_result/1000_wang_semeval.txt \n",
      "-----------\n",
      "/home/crimex/CRIMEX/predicted_bert/std_sent_bilstm.xlsx\n",
      "/home/crimex/CRIMEX/predicted_bert/semeval_result/std_sent_bilstm_semeval.txt \n",
      "-----------\n",
      "/home/crimex/CRIMEX/predicted_bert/std_chunk_crf.xlsx\n",
      "/home/crimex/CRIMEX/predicted_bert/semeval_result/std_chunk_crf_semeval.txt \n",
      "-----------\n",
      "/home/crimex/CRIMEX/predicted_bert/xlmr_std_chunk.xlsx\n",
      "/home/crimex/CRIMEX/predicted_bert/semeval_result/xlmr_std_chunk_semeval.txt \n",
      "-----------\n",
      "/home/crimex/CRIMEX/predicted_bert/500_chunk_crf.xlsx\n",
      "/home/crimex/CRIMEX/predicted_bert/semeval_result/500_chunk_crf_semeval.txt \n",
      "-----------\n",
      "/home/crimex/CRIMEX/predicted_bert/2900_wang.xlsx\n",
      "/home/crimex/CRIMEX/predicted_bert/semeval_result/2900_wang_semeval.txt \n",
      "-----------\n",
      "/home/crimex/CRIMEX/predicted_bert/wang_2320.xlsx\n",
      "/home/crimex/CRIMEX/predicted_bert/semeval_result/wang_2320_semeval.txt \n",
      "-----------\n",
      "/home/crimex/CRIMEX/predicted_bert/1000_sent_crf.xlsx\n",
      "/home/crimex/CRIMEX/predicted_bert/semeval_result/1000_sent_crf_semeval.txt \n",
      "-----------\n",
      "/home/crimex/CRIMEX/predicted_bert/noO_sent_crf.xlsx\n",
      "/home/crimex/CRIMEX/predicted_bert/semeval_result/noO_sent_crf_semeval.txt \n",
      "-----------\n",
      "/home/crimex/CRIMEX/predicted_bert/wang_noO_chunk.xlsx\n",
      "/home/crimex/CRIMEX/predicted_bert/semeval_result/wang_noO_chunk_semeval.txt \n",
      "-----------\n",
      "/home/crimex/CRIMEX/predicted_bert/500_sent_bilstm.xlsx\n"
     ]
    },
    {
     "name": "stderr",
     "output_type": "stream",
     "text": [
      "/home/crimex/miniconda3/envs/crimex/lib/python3.10/site-packages/sklearn/metrics/_classification.py:1344: UndefinedMetricWarning: Precision is ill-defined and being set to 0.0 due to no predicted samples. Use `zero_division` parameter to control this behavior.\n",
      "  _warn_prf(average, modifier, msg_start, len(result))\n",
      "/home/crimex/miniconda3/envs/crimex/lib/python3.10/site-packages/sklearn/metrics/_classification.py:1344: UndefinedMetricWarning: Precision is ill-defined and being set to 0.0 due to no predicted samples. Use `zero_division` parameter to control this behavior.\n",
      "  _warn_prf(average, modifier, msg_start, len(result))\n",
      "/home/crimex/miniconda3/envs/crimex/lib/python3.10/site-packages/sklearn/metrics/_classification.py:1344: UndefinedMetricWarning: Precision and F-score are ill-defined and being set to 0.0 in labels with no predicted samples. Use `zero_division` parameter to control this behavior.\n",
      "  _warn_prf(average, modifier, msg_start, len(result))\n",
      "/home/crimex/miniconda3/envs/crimex/lib/python3.10/site-packages/sklearn/metrics/_classification.py:1344: UndefinedMetricWarning: Precision and F-score are ill-defined and being set to 0.0 in labels with no predicted samples. Use `zero_division` parameter to control this behavior.\n",
      "  _warn_prf(average, modifier, msg_start, len(result))\n",
      "/home/crimex/miniconda3/envs/crimex/lib/python3.10/site-packages/sklearn/metrics/_classification.py:1344: UndefinedMetricWarning: Precision and F-score are ill-defined and being set to 0.0 in labels with no predicted samples. Use `zero_division` parameter to control this behavior.\n",
      "  _warn_prf(average, modifier, msg_start, len(result))\n"
     ]
    },
    {
     "name": "stdout",
     "output_type": "stream",
     "text": [
      "/home/crimex/CRIMEX/predicted_bert/semeval_result/500_sent_bilstm_semeval.txt \n",
      "-----------\n",
      "/home/crimex/CRIMEX/predicted_bert/500_wang.xlsx\n",
      "/home/crimex/CRIMEX/predicted_bert/semeval_result/500_wang_semeval.txt \n",
      "-----------\n",
      "/home/crimex/CRIMEX/predicted_bert/wang_noO.xlsx\n",
      "/home/crimex/CRIMEX/predicted_bert/semeval_result/wang_noO_semeval.txt \n",
      "-----------\n",
      "/home/crimex/CRIMEX/predicted_bert/2900_sent_bilstm.xlsx\n"
     ]
    },
    {
     "name": "stderr",
     "output_type": "stream",
     "text": [
      "/home/crimex/miniconda3/envs/crimex/lib/python3.10/site-packages/sklearn/metrics/_classification.py:1344: UndefinedMetricWarning: Precision is ill-defined and being set to 0.0 due to no predicted samples. Use `zero_division` parameter to control this behavior.\n",
      "  _warn_prf(average, modifier, msg_start, len(result))\n",
      "/home/crimex/miniconda3/envs/crimex/lib/python3.10/site-packages/sklearn/metrics/_classification.py:1344: UndefinedMetricWarning: Precision is ill-defined and being set to 0.0 due to no predicted samples. Use `zero_division` parameter to control this behavior.\n",
      "  _warn_prf(average, modifier, msg_start, len(result))\n",
      "/home/crimex/miniconda3/envs/crimex/lib/python3.10/site-packages/sklearn/metrics/_classification.py:1344: UndefinedMetricWarning: Precision is ill-defined and being set to 0.0 due to no predicted samples. Use `zero_division` parameter to control this behavior.\n",
      "  _warn_prf(average, modifier, msg_start, len(result))\n",
      "/home/crimex/miniconda3/envs/crimex/lib/python3.10/site-packages/sklearn/metrics/_classification.py:1344: UndefinedMetricWarning: Precision is ill-defined and being set to 0.0 due to no predicted samples. Use `zero_division` parameter to control this behavior.\n",
      "  _warn_prf(average, modifier, msg_start, len(result))\n",
      "/home/crimex/miniconda3/envs/crimex/lib/python3.10/site-packages/sklearn/metrics/_classification.py:1344: UndefinedMetricWarning: Precision is ill-defined and being set to 0.0 due to no predicted samples. Use `zero_division` parameter to control this behavior.\n",
      "  _warn_prf(average, modifier, msg_start, len(result))\n",
      "/home/crimex/miniconda3/envs/crimex/lib/python3.10/site-packages/sklearn/metrics/_classification.py:1344: UndefinedMetricWarning: Precision and F-score are ill-defined and being set to 0.0 in labels with no predicted samples. Use `zero_division` parameter to control this behavior.\n",
      "  _warn_prf(average, modifier, msg_start, len(result))\n",
      "/home/crimex/miniconda3/envs/crimex/lib/python3.10/site-packages/sklearn/metrics/_classification.py:1344: UndefinedMetricWarning: Precision and F-score are ill-defined and being set to 0.0 in labels with no predicted samples. Use `zero_division` parameter to control this behavior.\n",
      "  _warn_prf(average, modifier, msg_start, len(result))\n",
      "/home/crimex/miniconda3/envs/crimex/lib/python3.10/site-packages/sklearn/metrics/_classification.py:1344: UndefinedMetricWarning: Precision and F-score are ill-defined and being set to 0.0 in labels with no predicted samples. Use `zero_division` parameter to control this behavior.\n",
      "  _warn_prf(average, modifier, msg_start, len(result))\n"
     ]
    },
    {
     "name": "stdout",
     "output_type": "stream",
     "text": [
      "/home/crimex/CRIMEX/predicted_bert/semeval_result/2900_sent_bilstm_semeval.txt \n",
      "-----------\n",
      "/home/crimex/CRIMEX/predicted_bert/1000_chunk_crf.xlsx\n",
      "/home/crimex/CRIMEX/predicted_bert/semeval_result/1000_chunk_crf_semeval.txt \n",
      "-----------\n",
      "/home/crimex/CRIMEX/predicted_bert/2900_chunk_wang.xlsx\n",
      "/home/crimex/CRIMEX/predicted_bert/semeval_result/2900_chunk_wang_semeval.txt \n",
      "-----------\n",
      "/home/crimex/CRIMEX/predicted_bert/1500_chunk_crf.xlsx\n",
      "/home/crimex/CRIMEX/predicted_bert/semeval_result/1500_chunk_crf_semeval.txt \n",
      "-----------\n",
      "/home/crimex/CRIMEX/predicted_bert/1000_chunk_xlmr.xlsx\n"
     ]
    },
    {
     "name": "stderr",
     "output_type": "stream",
     "text": [
      "/home/crimex/miniconda3/envs/crimex/lib/python3.10/site-packages/sklearn/metrics/_classification.py:1344: UndefinedMetricWarning: Precision is ill-defined and being set to 0.0 due to no predicted samples. Use `zero_division` parameter to control this behavior.\n",
      "  _warn_prf(average, modifier, msg_start, len(result))\n",
      "/home/crimex/miniconda3/envs/crimex/lib/python3.10/site-packages/sklearn/metrics/_classification.py:1344: UndefinedMetricWarning: Precision is ill-defined and being set to 0.0 due to no predicted samples. Use `zero_division` parameter to control this behavior.\n",
      "  _warn_prf(average, modifier, msg_start, len(result))\n",
      "/home/crimex/miniconda3/envs/crimex/lib/python3.10/site-packages/sklearn/metrics/_classification.py:1344: UndefinedMetricWarning: Precision is ill-defined and being set to 0.0 due to no predicted samples. Use `zero_division` parameter to control this behavior.\n",
      "  _warn_prf(average, modifier, msg_start, len(result))\n",
      "/home/crimex/miniconda3/envs/crimex/lib/python3.10/site-packages/sklearn/metrics/_classification.py:1344: UndefinedMetricWarning: Precision and F-score are ill-defined and being set to 0.0 in labels with no predicted samples. Use `zero_division` parameter to control this behavior.\n",
      "  _warn_prf(average, modifier, msg_start, len(result))\n",
      "/home/crimex/miniconda3/envs/crimex/lib/python3.10/site-packages/sklearn/metrics/_classification.py:1344: UndefinedMetricWarning: Precision and F-score are ill-defined and being set to 0.0 in labels with no predicted samples. Use `zero_division` parameter to control this behavior.\n",
      "  _warn_prf(average, modifier, msg_start, len(result))\n",
      "/home/crimex/miniconda3/envs/crimex/lib/python3.10/site-packages/sklearn/metrics/_classification.py:1344: UndefinedMetricWarning: Precision and F-score are ill-defined and being set to 0.0 in labels with no predicted samples. Use `zero_division` parameter to control this behavior.\n",
      "  _warn_prf(average, modifier, msg_start, len(result))\n"
     ]
    },
    {
     "name": "stdout",
     "output_type": "stream",
     "text": [
      "/home/crimex/CRIMEX/predicted_bert/semeval_result/1000_chunk_xlmr_semeval.txt \n",
      "-----------\n",
      "/home/crimex/CRIMEX/predicted_bert/person_noO_sent_crf.xlsx\n",
      "/home/crimex/CRIMEX/predicted_bert/semeval_result/person_noO_sent_crf_semeval.txt \n",
      "-----------\n",
      "/home/crimex/CRIMEX/predicted_bert/person_sent_bilstm.xlsx\n",
      "/home/crimex/CRIMEX/predicted_bert/semeval_result/person_sent_bilstm_semeval.txt \n",
      "-----------\n",
      "/home/crimex/CRIMEX/predicted_bert/2900_chunk_bilstm.xlsx\n",
      "/home/crimex/CRIMEX/predicted_bert/semeval_result/2900_chunk_bilstm_semeval.txt \n",
      "-----------\n",
      "/home/crimex/CRIMEX/predicted_bert/noO_chunk_crf.xlsx\n",
      "/home/crimex/CRIMEX/predicted_bert/semeval_result/noO_chunk_crf_semeval.txt \n",
      "-----------\n",
      "/home/crimex/CRIMEX/predicted_bert/500_chunk_bilstm.xlsx\n"
     ]
    },
    {
     "name": "stderr",
     "output_type": "stream",
     "text": [
      "/home/crimex/miniconda3/envs/crimex/lib/python3.10/site-packages/sklearn/metrics/_classification.py:1344: UndefinedMetricWarning: Precision is ill-defined and being set to 0.0 due to no predicted samples. Use `zero_division` parameter to control this behavior.\n",
      "  _warn_prf(average, modifier, msg_start, len(result))\n",
      "/home/crimex/miniconda3/envs/crimex/lib/python3.10/site-packages/sklearn/metrics/_classification.py:1344: UndefinedMetricWarning: Precision is ill-defined and being set to 0.0 due to no predicted samples. Use `zero_division` parameter to control this behavior.\n",
      "  _warn_prf(average, modifier, msg_start, len(result))\n",
      "/home/crimex/miniconda3/envs/crimex/lib/python3.10/site-packages/sklearn/metrics/_classification.py:1344: UndefinedMetricWarning: Precision and F-score are ill-defined and being set to 0.0 in labels with no predicted samples. Use `zero_division` parameter to control this behavior.\n",
      "  _warn_prf(average, modifier, msg_start, len(result))\n",
      "/home/crimex/miniconda3/envs/crimex/lib/python3.10/site-packages/sklearn/metrics/_classification.py:1344: UndefinedMetricWarning: Precision and F-score are ill-defined and being set to 0.0 in labels with no predicted samples. Use `zero_division` parameter to control this behavior.\n",
      "  _warn_prf(average, modifier, msg_start, len(result))\n",
      "/home/crimex/miniconda3/envs/crimex/lib/python3.10/site-packages/sklearn/metrics/_classification.py:1344: UndefinedMetricWarning: Precision and F-score are ill-defined and being set to 0.0 in labels with no predicted samples. Use `zero_division` parameter to control this behavior.\n",
      "  _warn_prf(average, modifier, msg_start, len(result))\n"
     ]
    },
    {
     "name": "stdout",
     "output_type": "stream",
     "text": [
      "/home/crimex/CRIMEX/predicted_bert/semeval_result/500_chunk_bilstm_semeval.txt \n",
      "-----------\n",
      "/home/crimex/CRIMEX/predicted_bert/xlmr_person_1.xlsx\n",
      "/home/crimex/CRIMEX/predicted_bert/semeval_result/xlmr_person_1_semeval.txt \n",
      "-----------\n",
      "/home/crimex/CRIMEX/predicted_bert/500_chunk_xlmr.xlsx\n"
     ]
    },
    {
     "name": "stderr",
     "output_type": "stream",
     "text": [
      "/home/crimex/miniconda3/envs/crimex/lib/python3.10/site-packages/sklearn/metrics/_classification.py:1344: UndefinedMetricWarning: Precision is ill-defined and being set to 0.0 due to no predicted samples. Use `zero_division` parameter to control this behavior.\n",
      "  _warn_prf(average, modifier, msg_start, len(result))\n",
      "/home/crimex/miniconda3/envs/crimex/lib/python3.10/site-packages/sklearn/metrics/_classification.py:1344: UndefinedMetricWarning: Precision is ill-defined and being set to 0.0 due to no predicted samples. Use `zero_division` parameter to control this behavior.\n",
      "  _warn_prf(average, modifier, msg_start, len(result))\n",
      "/home/crimex/miniconda3/envs/crimex/lib/python3.10/site-packages/sklearn/metrics/_classification.py:1344: UndefinedMetricWarning: Precision is ill-defined and being set to 0.0 due to no predicted samples. Use `zero_division` parameter to control this behavior.\n",
      "  _warn_prf(average, modifier, msg_start, len(result))\n",
      "/home/crimex/miniconda3/envs/crimex/lib/python3.10/site-packages/sklearn/metrics/_classification.py:1344: UndefinedMetricWarning: Precision is ill-defined and being set to 0.0 due to no predicted samples. Use `zero_division` parameter to control this behavior.\n",
      "  _warn_prf(average, modifier, msg_start, len(result))\n",
      "/home/crimex/miniconda3/envs/crimex/lib/python3.10/site-packages/sklearn/metrics/_classification.py:1344: UndefinedMetricWarning: Precision is ill-defined and being set to 0.0 due to no predicted samples. Use `zero_division` parameter to control this behavior.\n",
      "  _warn_prf(average, modifier, msg_start, len(result))\n",
      "/home/crimex/miniconda3/envs/crimex/lib/python3.10/site-packages/sklearn/metrics/_classification.py:1344: UndefinedMetricWarning: Precision and F-score are ill-defined and being set to 0.0 in labels with no predicted samples. Use `zero_division` parameter to control this behavior.\n",
      "  _warn_prf(average, modifier, msg_start, len(result))\n",
      "/home/crimex/miniconda3/envs/crimex/lib/python3.10/site-packages/sklearn/metrics/_classification.py:1344: UndefinedMetricWarning: Precision and F-score are ill-defined and being set to 0.0 in labels with no predicted samples. Use `zero_division` parameter to control this behavior.\n",
      "  _warn_prf(average, modifier, msg_start, len(result))\n"
     ]
    },
    {
     "name": "stdout",
     "output_type": "stream",
     "text": [
      "/home/crimex/CRIMEX/predicted_bert/semeval_result/500_chunk_xlmr_semeval.txt \n",
      "-----------\n",
      "-------------FINISH------------\n"
     ]
    },
    {
     "name": "stderr",
     "output_type": "stream",
     "text": [
      "/home/crimex/miniconda3/envs/crimex/lib/python3.10/site-packages/sklearn/metrics/_classification.py:1344: UndefinedMetricWarning: Precision and F-score are ill-defined and being set to 0.0 in labels with no predicted samples. Use `zero_division` parameter to control this behavior.\n",
      "  _warn_prf(average, modifier, msg_start, len(result))\n"
     ]
    }
   ],
   "source": [
    "from ner_eval import Evaluator\n",
    "import os\n",
    "import pandas as pd\n",
    "import ast\n",
    "import sklearn.metrics\n",
    "import numpy as np\n",
    "from itertools import chain\n",
    "from sklearn.metrics import matthews_corrcoef, confusion_matrix\n",
    "from sklearn.metrics import classification_report\n",
    "from sklearn.metrics import accuracy_score\n",
    "\n",
    "dir_path = '/home/crimex/CRIMEX/predicted_bert/'\n",
    "\n",
    "ent_type_eval = ['Criminal', 'Victim', 'Action', 'Location', 'Datetime',  'Item', \n",
    "                 'Rootcause', 'Trigger','worth', 'Enforcement']\n",
    "\n",
    "for file_name in os.listdir(dir_path):\n",
    "    if file_name.endswith('.xlsx'):\n",
    "        file_path = os.path.join(dir_path, file_name)\n",
    "        print(file_path)\n",
    "        \n",
    "        # read xlsx file \n",
    "        df = pd.read_excel(file_path)\n",
    "        df.columns = ['Predict', 'Real']\n",
    "        \n",
    "        # get test dataset \n",
    "        y_pred = []\n",
    "        y_test = []\n",
    "\n",
    "        for ind in range(0, df.shape[0]):\n",
    "            y_pred.append(ast.literal_eval(df['Predict'][ind]))\n",
    "            y_test.append(ast.literal_eval(df['Real'][ind]))\n",
    "            \n",
    "        # infor eval ------------------------------------------------------------------------------\n",
    "        evaluator = Evaluator(y_test, y_pred, ent_type_eval)\n",
    "        results, results_agg = evaluator.evaluate()\n",
    "        \n",
    "        \n",
    "        # token eval ------------------------------------------------------------------------------\n",
    "#         flatten_true_predictions= list(chain.from_iterable(y_pred))\n",
    "#         flatten_true_labels= list(chain.from_iterable(y_test))\n",
    "        flatten_true_predictions = []\n",
    "        flatten_true_labels = []\n",
    "\n",
    "        for i in range (0,len(y_test)):\n",
    "        #     print(y_test[i])\n",
    "            for k in range(0,len(y_test[i])):\n",
    "        #         print(y_test[i][k])\n",
    "                if y_test[i][k] != 'pad'and y_pred[i][k] != 'pad': \n",
    "                    flatten_true_predictions.append(y_pred[i][k])\n",
    "                    flatten_true_labels.append(y_test[i][k])\n",
    "        # printing result\n",
    "        r = sklearn.metrics.confusion_matrix(flatten_true_labels, flatten_true_predictions)\n",
    "        r\n",
    "        cm = r.astype('float') / r.sum(axis=1)[:, np.newaxis]\n",
    "        # cm\n",
    "        # cm.diagonal()\n",
    "        \n",
    "        # MCC -------------------\n",
    "        from sklearn.metrics import matthews_corrcoef, confusion_matrix\n",
    "        tag_map = {'B-Criminal': 'Criminal',\n",
    "                   'I-Criminal': 'Criminal',\n",
    "                   'B-Action': 'Action',\n",
    "                   'I-Action': 'Action',\n",
    "                   'B-Location': 'Location',\n",
    "                   'I-Location': 'Location',\n",
    "                   'B-Item': 'Item',\n",
    "                   'I-Item': 'Item',\n",
    "                   'B-Victim': 'Victim',\n",
    "                   'I-Victim': 'Victim',\n",
    "                   'B-worth': 'Worth',\n",
    "                   'I-worth': 'Worth',\n",
    "                   'B-Datetime': 'Datetime',\n",
    "                   'I-Datetime': 'Datetime',\n",
    "                   'B-Enforcement': 'Enforcement',\n",
    "                   'I-Enforcement': 'Enforcement',\n",
    "                   'B-Rootcause': 'Rootcause',\n",
    "                   'I-Rootcause': 'Rootcause',\n",
    "                   'B-Trigger': 'Trigger',\n",
    "                   'I-Trigger': 'Trigger',\n",
    "                   'O': 'O'}\n",
    "\n",
    "        # Convert the original tags to merged tags\n",
    "        merged_true_labels = [tag_map[tag] for tag in flatten_true_labels]\n",
    "        merged_true_predictions = [tag_map[tag] for tag in flatten_true_predictions]\n",
    "\n",
    "        ny_true = np.array(merged_true_labels)\n",
    "        ny_pred = np.array(merged_true_predictions)\n",
    "\n",
    "        # mcc report (str)\n",
    "        mcc_report = \"+--------------+-----------------------+\\n\"\n",
    "        mcc_report += f\"| MCC report \\n\"\n",
    "        mcc_report += \"+--------------+-----------------------+\\n\"\n",
    "\n",
    "        # Calculate MCC for all labels\n",
    "        mcc_all = matthews_corrcoef(ny_true, ny_pred)\n",
    "        # print(\"MCC (all labels):\", mcc_all)\n",
    "        \n",
    "\n",
    "        # Calculate MCC for each label\n",
    "        for label in np.unique(ny_true):\n",
    "            y_true_label = np.where(ny_true == label, 1, 0)\n",
    "            y_pred_label = np.where(ny_pred == label, 1, 0)\n",
    "            mcc_label = matthews_corrcoef(y_true_label, y_pred_label)\n",
    "        #     print(f\"MCC (label {label}):\", mcc_label)\n",
    "            mcc_report += f\"| {label:<12} |  {mcc_label}\\n\"\n",
    "\n",
    "        mcc_report += \"+---------------+-----------------------+\\n\"\n",
    "        mcc_report += f\"| {'Overall':<12} |  {mcc_all}\\n\"\n",
    "        mcc_report += \"+---------------+-----------------------+\\n\"\n",
    "#         print(mcc_report)\n",
    "        \n",
    "        # ACC -------------------\n",
    "        from sklearn.metrics import accuracy_score\n",
    "        accuracy_all = dict()\n",
    "        for label in np.unique(ny_true):\n",
    "            y_true_label = np.where(ny_true == label, 1, 0)\n",
    "            y_pred_label = np.where(ny_pred == label, 1, 0)\n",
    "            accuracy = accuracy_score(y_true_label, y_pred_label)\n",
    "            accuracy_all[label] = accuracy\n",
    "        # print(\"Accuracy (all labels):\", np.mean(list(accuracy_all.values())))\n",
    "\n",
    "        acc_report = \"+--------------+-----------------------+\\n\"\n",
    "        acc_report += f\"| ACC report \\n\"\n",
    "        acc_report += \"+--------------+-----------------------+\\n\"\n",
    "\n",
    "        for label, accuracy in accuracy_all.items():\n",
    "        #     print(f\"Accuracy (label {label}):\", accuracy)\n",
    "            acc_report += f\"| {label:<12} |  {accuracy}\\n\"\n",
    "\n",
    "        acc_report += \"+---------------+-----------------------+\\n\"\n",
    "        acc_report += f\"| {'Overall':<12} |  {np.mean(list(accuracy_all.values()))}\\n\"\n",
    "        acc_report += \"+---------------+-----------------------+\\n\"\n",
    "#         print(acc_report)\n",
    "\n",
    "        # precision -------------------\n",
    "        from sklearn.metrics import precision_score\n",
    "        precision_all = dict()\n",
    "        for label in np.unique(ny_true):\n",
    "            y_true_label = np.where(ny_true == label, 1, 0)\n",
    "            y_pred_label = np.where(ny_pred == label, 1, 0)\n",
    "            precision = precision_score(y_true_label, y_pred_label)\n",
    "            precision_all[label] = precision\n",
    "        # print(\"Accuracy (all labels):\", np.mean(list(accuracy_all.values())))\n",
    "\n",
    "        pre_report = \"+--------------+-----------------------+\\n\"\n",
    "        pre_report += f\"| precison report \\n\"\n",
    "        pre_report += \"+--------------+-----------------------+\\n\"\n",
    "\n",
    "        for label, precision in precision_all.items():\n",
    "        #     print(f\"Accuracy (label {label}):\", accuracy)\n",
    "            pre_report += f\"| {label:<12} |  {precision}\\n\"\n",
    "\n",
    "        pre_report += \"+---------------+-----------------------+\\n\"\n",
    "        pre_report += f\"| {'Overall':<12} |  {np.mean(list(accuracy_all.values()))}\\n\"\n",
    "        pre_report += \"+---------------+-----------------------+\\n\"\n",
    "#         print(pre_report)\n",
    "\n",
    "        from sklearn.metrics import classification_report\n",
    "        report = classification_report(ny_true, ny_pred, labels=np.unique(ny_true))\n",
    "#         print(report)\n",
    "\n",
    "        # save result eval ------------------------------------------------------------------------------\n",
    "        re_path = dir_path+'semeval_result/' + file_name[:-5]+'_semeval.txt'\n",
    "        print(re_path, '\\n-----------')\n",
    "        \n",
    "        with open(re_path , 'w') as file:   \n",
    "            file.write('\\n-----------------------------------------------------------------\\n\\n')\n",
    "            file.write('classification_report\\n')\n",
    "            file.write(report)\n",
    "            file.write('\\n-----------------------------------------------------------------\\n\\n')\n",
    "            file.write(mcc_report)\n",
    "            file.write('\\n-----------------------------------------------------------------\\n\\n')\n",
    "            file.write(acc_report)\n",
    "            file.write('\\n-----------------------------------------------------------------\\n\\n')\n",
    "            file.write(pre_report)\n",
    "            file.write('\\n-----------------------------------------------------------------\\n\\nOver All\\n')\n",
    "            for re in results:\n",
    "                file.write(re)\n",
    "                file.write('\\n')\n",
    "                file.write(str(results[re]))\n",
    "                file.write('\\n')\n",
    "\n",
    "            file.write('\\n-----------------------------------------------------------------\\n\\nEach Labels\\n\\n')\n",
    "            for re_agg in results_agg:\n",
    "                file.write(re_agg)\n",
    "                file.write('\\n')\n",
    "                for re in results_agg[re_agg]: \n",
    "                    file.write(re)\n",
    "                    file.write('\\n')\n",
    "                    file.write(str(results_agg[re_agg][re]))\n",
    "                    file.write('\\n')\n",
    "                file.write('\\n\\n')\n",
    "            file.close()\n",
    "        \n",
    "print(\"-------------FINISH------------\")       "
   ]
  },
  {
   "cell_type": "code",
   "execution_count": 3,
   "id": "49e5750d",
   "metadata": {},
   "outputs": [
    {
     "name": "stdout",
     "output_type": "stream",
     "text": [
      "-------------FINISH------------\n"
     ]
    }
   ],
   "source": [
    "print(\"-------------FINISH------------\")  "
   ]
  },
  {
   "cell_type": "code",
   "execution_count": null,
   "id": "f1e33c7d",
   "metadata": {},
   "outputs": [],
   "source": []
  },
  {
   "cell_type": "code",
   "execution_count": null,
   "id": "6a71335e",
   "metadata": {},
   "outputs": [],
   "source": []
  },
  {
   "cell_type": "code",
   "execution_count": null,
   "id": "1be5a436",
   "metadata": {},
   "outputs": [],
   "source": []
  }
 ],
 "metadata": {
  "kernelspec": {
   "display_name": "Python 3 (ipykernel)",
   "language": "python",
   "name": "python3"
  },
  "language_info": {
   "codemirror_mode": {
    "name": "ipython",
    "version": 3
   },
   "file_extension": ".py",
   "mimetype": "text/x-python",
   "name": "python",
   "nbconvert_exporter": "python",
   "pygments_lexer": "ipython3",
   "version": "3.10.8"
  }
 },
 "nbformat": 4,
 "nbformat_minor": 5
}
